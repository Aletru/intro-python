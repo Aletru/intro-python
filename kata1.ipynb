{
 "cells": [
  {
   "cell_type": "code",
   "execution_count": 2,
   "metadata": {},
   "outputs": [
    {
     "name": "stdout",
     "output_type": "stream",
     "text": [
      "Today's date is: 2022-02-09\n"
     ]
    }
   ],
   "source": [
    "from datetime import date \n",
    "print(\"Today's date is: \" + str(date.today()))"
   ]
  },
  {
   "cell_type": "code",
   "execution_count": 3,
   "metadata": {},
   "outputs": [
    {
     "name": "stdout",
     "output_type": "stream",
     "text": [
      "11parsec, is 35.877159999999996 ligthyears\n"
     ]
    }
   ],
   "source": [
    "parsec = 11 \n",
    "lightyears = 3.26156 * parsec\n",
    "print(str(parsec) + \"parsec, is \" + str(lightyears) + \" ligthyears\")"
   ]
  }
 ],
 "metadata": {
  "interpreter": {
   "hash": "c83b6adc4a7b9ec3f290d49f3fa65d7187cc9491d4f5c1ac560bd855f91bab47"
  },
  "kernelspec": {
   "display_name": "Python 3.10.2 64-bit",
   "language": "python",
   "name": "python3"
  },
  "language_info": {
   "codemirror_mode": {
    "name": "ipython",
    "version": 3
   },
   "file_extension": ".py",
   "mimetype": "text/x-python",
   "name": "python",
   "nbconvert_exporter": "python",
   "pygments_lexer": "ipython3",
   "version": "3.10.2"
  },
  "orig_nbformat": 4
 },
 "nbformat": 4,
 "nbformat_minor": 2
}
