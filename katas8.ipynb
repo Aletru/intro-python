{
 "cells": [
  {
   "cell_type": "code",
   "execution_count": 3,
   "metadata": {},
   "outputs": [],
   "source": [
    "# ejercicio 1\n",
    "#  crea un diccionario llamada planet con los datos propuestos\n",
    "planet = {\n",
    "    'name': 'mars',\n",
    "    'moons': 2\n",
    "}"
   ]
  },
  {
   "cell_type": "code",
   "execution_count": 4,
   "metadata": {},
   "outputs": [
    {
     "name": "stdout",
     "output_type": "stream",
     "text": [
      "mars has 2 moons\n"
     ]
    }
   ],
   "source": [
    "# muestra el nombre del planeta y el numero de lunas que tiene\n",
    "\n",
    "print(f'{planet[\"name\"]} has {planet[\"moons\"]} moons')"
   ]
  },
  {
   "cell_type": "code",
   "execution_count": 5,
   "metadata": {},
   "outputs": [],
   "source": [
    "# agrega la clave circunferencia con los datos proporcionados\n",
    "planet['circunferencia (km)'] = {\n",
    "    'polar': 6752,\n",
    "    'equatorial': 6792\n",
    "}"
   ]
  },
  {
   "cell_type": "code",
   "execution_count": 12,
   "metadata": {},
   "outputs": [
    {
     "name": "stdout",
     "output_type": "stream",
     "text": [
      "mars la circunferencia polar es {'polar': 6752, 'equatorial': 6792}\n"
     ]
    }
   ],
   "source": [
    "# Imprime el nombre del planeta con su circunferencia polar\n",
    "print(f'{planet[\"name\"]} la circunferencia polar es {planet[\"circunferencia (km)\"]}')"
   ]
  },
  {
   "cell_type": "code",
   "execution_count": 13,
   "metadata": {},
   "outputs": [],
   "source": [
    "# ejercicio2\n",
    "# Planets and moons\n",
    "\n",
    "planet_moons = {\n",
    "    'mercury': 0,\n",
    "    'venus': 0,\n",
    "    'earth': 1,\n",
    "    'mars': 2,\n",
    "    'jupiter': 79,\n",
    "    'saturn': 82,\n",
    "    'uranus': 27,\n",
    "    'neptune': 14,\n",
    "    'pluto': 5,\n",
    "    'haumea': 2,\n",
    "    'makemake': 1,\n",
    "    'eris': 1\n",
    "}"
   ]
  },
  {
   "cell_type": "code",
   "execution_count": 17,
   "metadata": {},
   "outputs": [],
   "source": [
    "# determinar el numero de lunas\n",
    "moons = planet_moons.values()\n",
    "# total de planetas\n",
    "planets = len(planet_moons.keys())"
   ]
  },
  {
   "cell_type": "code",
   "execution_count": 18,
   "metadata": {},
   "outputs": [
    {
     "name": "stdout",
     "output_type": "stream",
     "text": [
      "17.833333333333332\n"
     ]
    }
   ],
   "source": [
    "# calcular el total de moons\n",
    "total_moons = 0\n",
    "for moon in moons:\n",
    "    total_moons = total_moons + moon\n",
    "average = total_moons / planets\n",
    "print(average)"
   ]
  }
 ],
 "metadata": {
  "interpreter": {
   "hash": "321890209383733dd954edd8be687dc34332cd3f0a06246374bd7f09512e6172"
  },
  "kernelspec": {
   "display_name": "Python 3.10.2 64-bit",
   "language": "python",
   "name": "python3"
  },
  "language_info": {
   "codemirror_mode": {
    "name": "ipython",
    "version": 3
   },
   "file_extension": ".py",
   "mimetype": "text/x-python",
   "name": "python",
   "nbconvert_exporter": "python",
   "pygments_lexer": "ipython3",
   "version": "3.10.2"
  },
  "orig_nbformat": 4
 },
 "nbformat": 4,
 "nbformat_minor": 2
}
