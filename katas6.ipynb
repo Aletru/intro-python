{
 "cells": [
  {
   "cell_type": "code",
   "execution_count": 3,
   "metadata": {},
   "outputs": [
    {
     "name": "stdout",
     "output_type": "stream",
     "text": [
      "hay 7 planets\n"
     ]
    }
   ],
   "source": [
    "# ejercicio 1\n",
    "#  creamos la lista planetas y la mostramos \n",
    "\n",
    "planets = ['mercury', 'venus', 'earth', 'mars', 'jupiter', 'saturn', 'neptune']\n",
    "print('hay', len(planets), 'planets')"
   ]
  },
  {
   "cell_type": "code",
   "execution_count": 6,
   "metadata": {},
   "outputs": [
    {
     "name": "stdout",
     "output_type": "stream",
     "text": [
      "pluto is the last planet\n"
     ]
    }
   ],
   "source": [
    "planets.append('pluto')\n",
    "print(planets[-1], 'is the last planet')"
   ]
  },
  {
   "cell_type": "code",
   "execution_count": 7,
   "metadata": {},
   "outputs": [],
   "source": [
    "# ejercicio 2 \n",
    "# lista de planetas \n",
    "planets = ['Mercury', 'Venus', 'Earth', 'Mars', 'Jupiter', 'Saturn', 'Neptune']\n"
   ]
  },
  {
   "cell_type": "code",
   "execution_count": 8,
   "metadata": {},
   "outputs": [],
   "source": [
    "# solicitamos el nombre de un planeta \n",
    "usuario = input('ingrrese el nombre del planeta, escribalo usando la primera letra en mayusculas')"
   ]
  },
  {
   "cell_type": "code",
   "execution_count": 9,
   "metadata": {},
   "outputs": [],
   "source": [
    "# busca el planeta en la lista\n",
    "planet_index = planets.index(usuario)"
   ]
  },
  {
   "cell_type": "code",
   "execution_count": 13,
   "metadata": {},
   "outputs": [
    {
     "name": "stdout",
     "output_type": "stream",
     "text": [
      " estos son los planetas mas cercanos al sol Mercury\n",
      "[]\n"
     ]
    }
   ],
   "source": [
    "# muestra los planetas mas cercanos al sol\n",
    "print(' estos son los planetas mas cercanos al sol ' + usuario)\n",
    "print(planets[0:planet_index])"
   ]
  },
  {
   "cell_type": "code",
   "execution_count": 14,
   "metadata": {},
   "outputs": [
    {
     "name": "stdout",
     "output_type": "stream",
     "text": [
      " estos son los planetas mas lejanos al sol Mercury\n",
      "['Venus', 'Earth', 'Mars', 'Jupiter', 'Saturn', 'Neptune']\n"
     ]
    }
   ],
   "source": [
    "# muestra los planetas mas lejanos al sol\n",
    "print(' estos son los planetas mas lejanos al sol ' + usuario)\n",
    "print(planets[planet_index + 1:])"
   ]
  }
 ],
 "metadata": {
  "interpreter": {
   "hash": "c83b6adc4a7b9ec3f290d49f3fa65d7187cc9491d4f5c1ac560bd855f91bab47"
  },
  "kernelspec": {
   "display_name": "Python 3.10.2 64-bit",
   "language": "python",
   "name": "python3"
  },
  "language_info": {
   "codemirror_mode": {
    "name": "ipython",
    "version": 3
   },
   "file_extension": ".py",
   "mimetype": "text/x-python",
   "name": "python",
   "nbconvert_exporter": "python",
   "pygments_lexer": "ipython3",
   "version": "3.10.2"
  },
  "orig_nbformat": 4
 },
 "nbformat": 4,
 "nbformat_minor": 2
}
