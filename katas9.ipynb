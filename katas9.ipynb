{
 "cells": [
  {
   "cell_type": "code",
   "execution_count": 3,
   "metadata": {},
   "outputs": [],
   "source": [
    "# funcion para leer 3 tanques de combustible y muestre el promedio \n",
    "\n",
    "def r_t(oxigeno, gas, hidrogeno):\n",
    "    total = (oxigeno + gas + hidrogeno) / 3\n",
    "    return f\"\"\"report:\n",
    "    total: {total}%\n",
    "    oxigeno: {oxigeno}%\n",
    "    gas: {gas}%\n",
    "    hidrogeno: {hidrogeno}% \"\"\""
   ]
  },
  {
   "cell_type": "code",
   "execution_count": 4,
   "metadata": {},
   "outputs": [
    {
     "name": "stdout",
     "output_type": "stream",
     "text": [
      "report:\n",
      "    total: 56.333333333333336%\n",
      "    oxigeno: 40%\n",
      "    gas: 50%\n",
      "    hidrogeno: 79% \n"
     ]
    }
   ],
   "source": [
    "# llamamos a la funcion que genera el reporte print(funcion(tanque1, tanque2, tanque3))\n",
    "print(r_t(40, 50, 79))"
   ]
  },
  {
   "cell_type": "code",
   "execution_count": 8,
   "metadata": {},
   "outputs": [
    {
     "data": {
      "text/plain": [
       "60.0"
      ]
     },
     "execution_count": 8,
     "metadata": {},
     "output_type": "execute_result"
    }
   ],
   "source": [
    "# funcion promedio\n",
    "\n",
    "def promedio(valor):\n",
    "    total = sum(valor)\n",
    "    numero = len(valor)\n",
    "    return total / numero\n",
    "promedio([50, 70, 60])\n",
    "\n"
   ]
  },
  {
   "cell_type": "code",
   "execution_count": 10,
   "metadata": {},
   "outputs": [
    {
     "name": "stdout",
     "output_type": "stream",
     "text": [
      "report:\n",
      "    total: 70.0%\n",
      "    oxigeno: 70%\n",
      "    gas: 80%\n",
      "    hidrogeno: 60% \n"
     ]
    }
   ],
   "source": [
    "# actualiza la funcion \n",
    "def r_t(oxigeno, gas, hidrogeno):\n",
    "    total = (oxigeno + gas + hidrogeno) / 3\n",
    "    return f\"\"\"report:\n",
    "    total: {promedio([oxigeno, gas, hidrogeno])}%\n",
    "    oxigeno: {oxigeno}%\n",
    "    gas: {gas}%\n",
    "    hidrogeno: {hidrogeno}% \"\"\"\n",
    "print(r_t(70, 80, 60))"
   ]
  },
  {
   "cell_type": "code",
   "execution_count": 11,
   "metadata": {},
   "outputs": [
    {
     "name": "stdout",
     "output_type": "stream",
     "text": [
      " mision  luna\n",
      "    total de viaje: 44 minutos\n",
      "    total de combustible: (200000, 300000) galones \n"
     ]
    }
   ],
   "source": [
    "# ejercicio 2\n",
    "# Función con un informe preciso de la misión. Considera hora de prelanzamiento, tiempo de vuelo, destino\n",
    "\n",
    "def r_m(h_p, t_v, d, t_e, t_p):\n",
    "    return f\"\"\" mision {d}\n",
    "    total de viaje: {h_p + t_v} minutos\n",
    "    total de combustible: {t_e, t_p} galones \"\"\"\n",
    "print(r_m(24, 20, \" luna\", 200000, 300000))"
   ]
  },
  {
   "cell_type": "code",
   "execution_count": 15,
   "metadata": {},
   "outputs": [
    {
     "name": "stdout",
     "output_type": "stream",
     "text": [
      "\n",
      "    Mission luna\n",
      "    Total de viaje: 50 minutos\n",
      "    Total de combustible: 500000\n",
      "    \n"
     ]
    }
   ],
   "source": [
    "# Escribe tu nueva función de reporte considerando lo anterior\n",
    "\n",
    "def r_m(d, *minutos, **combustible):\n",
    "    return f\"\"\"\n",
    "    Mission {d}\n",
    "    Total de viaje: {sum(minutos)} minutos\n",
    "    Total de combustible: {sum(combustible.values())}\n",
    "    \"\"\"\n",
    "\n",
    "print(r_m(\"luna\", 10, 15, 25, principal=300000, externo=200000))"
   ]
  },
  {
   "cell_type": "code",
   "execution_count": 17,
   "metadata": {},
   "outputs": [
    {
     "name": "stdout",
     "output_type": "stream",
     "text": [
      "\n",
      "    Mision  luna\n",
      "    Total de viaje: 35 minutos\n",
      "    Total de combustible: 500000\n",
      "    \n"
     ]
    }
   ],
   "source": [
    "# Escribe tu nueva función\n",
    "def r_m(d, *minutos, **combustible):\n",
    "    return f\"\"\"\n",
    "    Mision  {d}\n",
    "    Total de viaje: {sum(minutos)} minutos\n",
    "    Total de combustible: {sum(combustible.values())}\n",
    "    \"\"\"\n",
    "    for n_t, galones in total_combustible.item():\n",
    "        r_m += f\"{n_t} tanque {galones} golones\"\n",
    "    return r_m\n",
    "\n",
    "print(r_m(\"luna\", 9, 15, 11, principal=300000, externo=200000))"
   ]
  }
 ],
 "metadata": {
  "interpreter": {
   "hash": "c83b6adc4a7b9ec3f290d49f3fa65d7187cc9491d4f5c1ac560bd855f91bab47"
  },
  "kernelspec": {
   "display_name": "Python 3.10.2 64-bit",
   "language": "python",
   "name": "python3"
  },
  "language_info": {
   "codemirror_mode": {
    "name": "ipython",
    "version": 3
   },
   "file_extension": ".py",
   "mimetype": "text/x-python",
   "name": "python",
   "nbconvert_exporter": "python",
   "pygments_lexer": "ipython3",
   "version": "3.10.2"
  },
  "orig_nbformat": 4
 },
 "nbformat": 4,
 "nbformat_minor": 2
}
