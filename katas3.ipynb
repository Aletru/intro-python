{
 "cells": [
  {
   "cell_type": "code",
   "execution_count": 2,
   "metadata": {},
   "outputs": [
    {
     "name": "stdout",
     "output_type": "stream",
     "text": [
      "alto advertencia de asteroide\n"
     ]
    }
   ],
   "source": [
    "# un asteroide se acerca y viaja a una velocidad de 49 km/s \n",
    "# ejercicio 1 \n",
    "\n",
    "a = 49 \n",
    "if a > 25:\n",
    "    print(\"alto advertencia de asteroide\")\n",
    "else:\n",
    "    print(\"no hay riesgo\")"
   ]
  },
  {
   "cell_type": "code",
   "execution_count": 4,
   "metadata": {},
   "outputs": [
    {
     "name": "stdout",
     "output_type": "stream",
     "text": [
      "no es la luz de un asteoride\n"
     ]
    }
   ],
   "source": [
    "# ejercicio 2\n",
    "a = 19\n",
    "if a > 20:\n",
    "    print(\"la luz de un asteroide\")\n",
    "elif a == 20:\n",
    "    print(\"la luz de un asteroide\")\n",
    "else:\n",
    "    print(\"no es la luz de un asteoride\")"
   ]
  },
  {
   "cell_type": "code",
   "execution_count": 10,
   "metadata": {},
   "outputs": [
    {
     "name": "stdout",
     "output_type": "stream",
     "text": [
      "hay una luz en el cielo\n"
     ]
    }
   ],
   "source": [
    "# ejercicio 3\n",
    "v_a = 25\n",
    "t_a = 30\n",
    "if v_a > 25 and t_a > 25:\n",
    "    print(\"alerta, peligro de asteroide\")\n",
    "elif v_a >= 20:\n",
    "    print(\"hay una luz en el cielo\")\n",
    "elif t_a < 25:\n",
    "    print(\"no hay nada que ver\")\n",
    "else:\n",
    "    print(\"no hya riesgo\")\n"
   ]
  }
 ],
 "metadata": {
  "interpreter": {
   "hash": "c83b6adc4a7b9ec3f290d49f3fa65d7187cc9491d4f5c1ac560bd855f91bab47"
  },
  "kernelspec": {
   "display_name": "Python 3.10.2 64-bit",
   "language": "python",
   "name": "python3"
  },
  "language_info": {
   "codemirror_mode": {
    "name": "ipython",
    "version": 3
   },
   "file_extension": ".py",
   "mimetype": "text/x-python",
   "name": "python",
   "nbconvert_exporter": "python",
   "pygments_lexer": "ipython3",
   "version": "3.10.2"
  },
  "orig_nbformat": 4
 },
 "nbformat": 4,
 "nbformat_minor": 2
}
