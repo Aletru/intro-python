{
 "cells": [
  {
   "cell_type": "code",
   "execution_count": 3,
   "metadata": {},
   "outputs": [
    {
     "data": {
      "text/plain": [
       "['Interesting facts about the Moon',\n",
       " \"The Moon is Earth's only satellite\",\n",
       " 'There are several interesting facts about the Moon and how it affects life here on Earth.\",\\n        \"On average, the Moon moves 4cm away from the Earth every year',\n",
       " 'This yearly drift is not significant enough to cause immediate effects on Earth',\n",
       " 'The highest daylight temperature of the Moon is 127']"
      ]
     },
     "execution_count": 3,
     "metadata": {},
     "output_type": "execute_result"
    }
   ],
   "source": [
    "# divide el texto en cada oracion para trabajar con su contenido \n",
    "text = \"\"\"Interesting facts about the Moon. The Moon is Earth's only satellite. There are several interesting facts about the Moon and how it affects life here on Earth.\",\n",
    "        \"On average, the Moon moves 4cm away from the Earth every year. This yearly drift is not significant enough to cause immediate effects on Earth. The highest daylight temperature of the Moon is 127\"\"\"\n",
    "\n",
    "text_parts = text.split('. ')\n",
    "text_parts"
   ]
  },
  {
   "cell_type": "code",
   "execution_count": 22,
   "metadata": {},
   "outputs": [],
   "source": [
    "# define algunas palabras clave para busqueda que te ayduaran a determinar si una oracion contiene un hecho \n",
    "\n",
    "palabras_claves = ['average,temperature, distancia' ]"
   ]
  },
  {
   "cell_type": "code",
   "execution_count": 23,
   "metadata": {},
   "outputs": [],
   "source": [
    "# cree un bucle para imprimir solo datos sobre la luna que esten relacionados con las palabras clave definidas anteriormente\n",
    "\n",
    "for sentence in text_parts:\n",
    "    for palabra_clave in palabras_claves:\n",
    "        if palabra_clave in sentence:\n",
    "            print(sentence)\n",
    "            break"
   ]
  },
  {
   "cell_type": "code",
   "execution_count": 24,
   "metadata": {},
   "outputs": [],
   "source": [
    "# finalmente actualiza el bluce(ciclo) para cambiar a C a Celsius\n",
    "for sentence in text_parts:\n",
    "    for palabra_clave in palabras_claves:\n",
    "        if palabra_clave in sentence:\n",
    "            print(sentence.replace(' C', ' Celsius'))\n",
    "            break"
   ]
  },
  {
   "cell_type": "code",
   "execution_count": 13,
   "metadata": {},
   "outputs": [],
   "source": [
    "# ejercico 2 \n",
    "# Datos con los que vamos a trabajar\n",
    "\n",
    "planeta = 'Moon '\n",
    "gravedad  = 0.00143\n",
    "nombre = 'Ganímedes'"
   ]
  },
  {
   "cell_type": "code",
   "execution_count": 10,
   "metadata": {},
   "outputs": [],
   "source": [
    "# creamos titulo\n",
    "\n",
    "title = f'datos de gravedad sobre la luna'"
   ]
  },
  {
   "cell_type": "code",
   "execution_count": 15,
   "metadata": {},
   "outputs": [],
   "source": [
    "# creamos la plantilla \n",
    "\n",
    "informacion = f\"\"\"{'-'*80}\n",
    "nombre del planeta: {planeta}\n",
    "gravedad en {nombre}: {gravedad * 1000} m/s2 \"\"\""
   ]
  },
  {
   "cell_type": "code",
   "execution_count": 16,
   "metadata": {},
   "outputs": [
    {
     "name": "stdout",
     "output_type": "stream",
     "text": [
      "--------------------------------------------------------------------------------\n",
      "nombre del planeta: Moon \n",
      "gravedad en Ganímedes: 1.4300000000000002 m/s2 \n"
     ]
    }
   ],
   "source": [
    "# union de cadenas\n",
    "plantilla = f\"\"\"{title.title()}\n",
    "{informacion}\"\"\"\n",
    "print(informacion)"
   ]
  },
  {
   "cell_type": "code",
   "execution_count": 17,
   "metadata": {},
   "outputs": [],
   "source": [
    "# nuevos datos muestra \n",
    "planeta = 'marte'\n",
    "gravedad = 0.00143\n",
    "nombre = 'gaimides'"
   ]
  },
  {
   "cell_type": "code",
   "execution_count": 18,
   "metadata": {},
   "outputs": [
    {
     "name": "stdout",
     "output_type": "stream",
     "text": [
      "--------------------------------------------------------------------------------\n",
      "nombre del planeta: Moon \n",
      "gravedad en Ganímedes: 1.4300000000000002 m/s2 \n"
     ]
    }
   ],
   "source": [
    "# comprobacion de nueva plantilla\n",
    "\n",
    "print(informacion)"
   ]
  },
  {
   "cell_type": "code",
   "execution_count": 19,
   "metadata": {},
   "outputs": [
    {
     "name": "stdout",
     "output_type": "stream",
     "text": [
      " datos de gravedad sobre:gaimides\n",
      "nombre del planeta: marte\n",
      "gravedad en gaimides: 0.00143 m/s2 \n"
     ]
    }
   ],
   "source": [
    "nueva_plantilla = \"\"\" datos de gravedad sobre:{nombre}\n",
    "nombre del planeta: {planeta}\n",
    "gravedad en {nombre}: {gravedad} m/s2 \"\"\"\n",
    "print(nueva_plantilla.format(nombre=nombre, planeta=planeta, gravedad= gravedad))\n"
   ]
  },
  {
   "cell_type": "code",
   "execution_count": 20,
   "metadata": {},
   "outputs": [
    {
     "name": "stdout",
     "output_type": "stream",
     "text": [
      " datos de gravedad sobre:gaimides\n",
      "nombre del planeta: marte\n",
      "gravedad en gaimides: 1.4300000000000002 m/s2 \n"
     ]
    }
   ],
   "source": [
    "# pista\n",
    "print(nueva_plantilla.format(nombre=nombre, planeta=planeta, gravedad= gravedad *1000 ))\n"
   ]
  }
 ],
 "metadata": {
  "interpreter": {
   "hash": "c83b6adc4a7b9ec3f290d49f3fa65d7187cc9491d4f5c1ac560bd855f91bab47"
  },
  "kernelspec": {
   "display_name": "Python 3.10.2 64-bit",
   "language": "python",
   "name": "python3"
  },
  "language_info": {
   "codemirror_mode": {
    "name": "ipython",
    "version": 3
   },
   "file_extension": ".py",
   "mimetype": "text/x-python",
   "name": "python",
   "nbconvert_exporter": "python",
   "pygments_lexer": "ipython3",
   "version": "3.10.2"
  },
  "orig_nbformat": 4
 },
 "nbformat": 4,
 "nbformat_minor": 2
}
