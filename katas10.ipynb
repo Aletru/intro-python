{
 "cells": [
  {
   "cell_type": "code",
   "execution_count": 2,
   "metadata": {},
   "outputs": [
    {
     "ename": "FileNotFoundError",
     "evalue": "[Errno 2] No such file or directory: '/path/to/mars.jpg'",
     "output_type": "error",
     "traceback": [
      "\u001b[1;31m---------------------------------------------------------------------------\u001b[0m",
      "\u001b[1;31mFileNotFoundError\u001b[0m                         Traceback (most recent call last)",
      "\u001b[1;32mf:\\tareas\\katas10.ipynb Cell 1'\u001b[0m in \u001b[0;36m<module>\u001b[1;34m\u001b[0m\n\u001b[1;32m----> <a href='vscode-notebook-cell:/f%3A/tareas/katas10.ipynb#ch0000000?line=0'>1</a>\u001b[0m \u001b[39mopen\u001b[39;49m(\u001b[39m\"\u001b[39;49m\u001b[39m/path/to/mars.jpg\u001b[39;49m\u001b[39m\"\u001b[39;49m)\n",
      "\u001b[1;31mFileNotFoundError\u001b[0m: [Errno 2] No such file or directory: '/path/to/mars.jpg'"
     ]
    }
   ],
   "source": [
    ">>> open(\"/path/to/mars.jpg\")\n",
    "Traceback (most recent call last):\n"
   ]
  },
  {
   "cell_type": "code",
   "execution_count": 7,
   "metadata": {},
   "outputs": [
    {
     "name": "stdout",
     "output_type": "stream",
     "text": [
      "Couldn't find the config.txt file!\n"
     ]
    }
   ],
   "source": [
    ">>> try:\n",
    "...     open('config.txt')\n",
    "... except FileNotFoundError:\n",
    "...     print(\"Couldn't find the config.txt file!\")\n"
   ]
  },
  {
   "cell_type": "code",
   "execution_count": 10,
   "metadata": {},
   "outputs": [
    {
     "name": "stdout",
     "output_type": "stream",
     "text": [
      "got a problem trying to read the file: [Errno 2] No such file or directory: 'mars.jpg'\n"
     ]
    }
   ],
   "source": [
    ">>> try:\n",
    "...     open(\"mars.jpg\")\n",
    "... except FileNotFoundError as err:\n",
    "...     print(\"got a problem trying to read the file:\", err)\n",
    "\n"
   ]
  },
  {
   "cell_type": "code",
   "execution_count": 11,
   "metadata": {},
   "outputs": [
    {
     "name": "stdout",
     "output_type": "stream",
     "text": [
      "Couldn't find the config.txt file!\n"
     ]
    }
   ],
   "source": [
    ">>> try:\n",
    "...     open(\"mars.jpg\")\n",
    "... except OSError as err:\n",
    "...     if err.errno == 2:\n",
    "...         print(\"Couldn't find the config.txt file!\")\n",
    "...     elif err.errno == 13:\n",
    "...         print(\"got a problem trying to read the file:\", err)\n"
   ]
  },
  {
   "cell_type": "code",
   "execution_count": 13,
   "metadata": {},
   "outputs": [],
   "source": [
    "def agua(astronautas, agua, dia):\n",
    "    u_d = astronautas * 11\n",
    "    t_u = u_d * dia \n",
    "    t_a = agua - t_u\n",
    "    return f\"el agua total que queda despues de {dia} dia es: {t_a}litros \""
   ]
  },
  {
   "cell_type": "code",
   "execution_count": 15,
   "metadata": {},
   "outputs": [
    {
     "data": {
      "text/plain": [
       "'el agua total que queda despues de 2 dias es: -10 litros'"
      ]
     },
     "execution_count": 15,
     "metadata": {},
     "output_type": "execute_result"
    }
   ],
   "source": [
    ">>> agua(5, 150, 2)\n",
    "'el agua total que queda despues de 2 dias es: -10 litros'"
   ]
  },
  {
   "cell_type": "code",
   "execution_count": 16,
   "metadata": {},
   "outputs": [],
   "source": [
    "def agua(astronautas, agua, dia):\n",
    "    u_d = astronautas * 11\n",
    "    t_u = u_d * dia \n",
    "    t_a = agua - t_u\n",
    "    if t_a < 0:\n",
    "        raise RuntimeError(f\"There ir not enough water for {astronautas} astronautas after {dia} days!\")\n",
    "    return f\"el agua total que queda despues de {dia} dia es: {t_a}litros \""
   ]
  },
  {
   "cell_type": "code",
   "execution_count": 17,
   "metadata": {},
   "outputs": [
    {
     "data": {
      "text/plain": [
       "'el agua total que queda despues de 2 dia es: 40litros '"
      ]
     },
     "execution_count": 17,
     "metadata": {},
     "output_type": "execute_result"
    }
   ],
   "source": [
    ">>> agua(5, 150, 2)\n"
   ]
  },
  {
   "cell_type": "code",
   "execution_count": 20,
   "metadata": {},
   "outputs": [
    {
     "ename": "TypeError",
     "evalue": "can't multiply sequence by non-int of type 'NoneType'",
     "output_type": "error",
     "traceback": [
      "\u001b[1;31m---------------------------------------------------------------------------\u001b[0m",
      "\u001b[1;31mTypeError\u001b[0m                                 Traceback (most recent call last)",
      "Input \u001b[1;32mIn [20]\u001b[0m, in \u001b[0;36m<module>\u001b[1;34m\u001b[0m\n\u001b[1;32m----> 1\u001b[0m agua(\u001b[39m\"\u001b[39;49m\u001b[39m3\u001b[39;49m\u001b[39m\"\u001b[39;49m, \u001b[39m\"\u001b[39;49m\u001b[39m200\u001b[39;49m\u001b[39m\"\u001b[39;49m, \u001b[39mNone\u001b[39;49;00m)\n",
      "\u001b[1;32mf:\\tareas\\katas10.ipynb Cell 8'\u001b[0m in \u001b[0;36magua\u001b[1;34m(astronautas, agua, dia)\u001b[0m\n\u001b[0;32m      <a href='vscode-notebook-cell:/f%3A/tareas/katas10.ipynb#ch0000008?line=0'>1</a>\u001b[0m \u001b[39mdef\u001b[39;00m \u001b[39magua\u001b[39m(astronautas, agua, dia):\n\u001b[0;32m      <a href='vscode-notebook-cell:/f%3A/tareas/katas10.ipynb#ch0000008?line=1'>2</a>\u001b[0m     u_d \u001b[39m=\u001b[39m astronautas \u001b[39m*\u001b[39m \u001b[39m11\u001b[39m\n\u001b[1;32m----> <a href='vscode-notebook-cell:/f%3A/tareas/katas10.ipynb#ch0000008?line=2'>3</a>\u001b[0m     t_u \u001b[39m=\u001b[39m u_d \u001b[39m*\u001b[39;49m dia \n\u001b[0;32m      <a href='vscode-notebook-cell:/f%3A/tareas/katas10.ipynb#ch0000008?line=3'>4</a>\u001b[0m     t_a \u001b[39m=\u001b[39m agua \u001b[39m-\u001b[39m t_u\n\u001b[0;32m      <a href='vscode-notebook-cell:/f%3A/tareas/katas10.ipynb#ch0000008?line=4'>5</a>\u001b[0m     \u001b[39mif\u001b[39;00m t_a \u001b[39m<\u001b[39m \u001b[39m0\u001b[39m:\n",
      "\u001b[1;31mTypeError\u001b[0m: can't multiply sequence by non-int of type 'NoneType'"
     ]
    }
   ],
   "source": [
    ">>> agua(\"3\", \"200\", None)"
   ]
  },
  {
   "cell_type": "code",
   "execution_count": 21,
   "metadata": {},
   "outputs": [],
   "source": [
    "def agua(astronautas, agua, dia):\n",
    "    for argument in [astronautas, agua, dia]:\n",
    "        try:\n",
    "            argument / 10 \n",
    "        except TypeError:\n",
    "            raise TypeError(f\"all arguemnts must be of type int, but recived: '{argument}'\")\n",
    "    u_d = astronautas * 11\n",
    "    t_u = u_d * dia \n",
    "    t_a = agua - t_u\n",
    "    if t_a < 0:\n",
    "        raise RuntimeError(f\"There ir not enough water for {astronautas} astronautas after {dia} days!\")\n",
    "    return f\"el agua total que queda despues de {dia} dia es: {t_a}litros \""
   ]
  },
  {
   "cell_type": "code",
   "execution_count": 23,
   "metadata": {},
   "outputs": [
    {
     "ename": "TypeError",
     "evalue": "all arguemnts must be of type int, but recived: '3'",
     "output_type": "error",
     "traceback": [
      "\u001b[1;31m---------------------------------------------------------------------------\u001b[0m",
      "\u001b[1;31mTypeError\u001b[0m                                 Traceback (most recent call last)",
      "\u001b[1;32mf:\\tareas\\katas10.ipynb Cell 11'\u001b[0m in \u001b[0;36magua\u001b[1;34m(astronautas, agua, dia)\u001b[0m\n\u001b[0;32m      <a href='vscode-notebook-cell:/f%3A/tareas/katas10.ipynb#ch0000011?line=2'>3</a>\u001b[0m \u001b[39mtry\u001b[39;00m:\n\u001b[1;32m----> <a href='vscode-notebook-cell:/f%3A/tareas/katas10.ipynb#ch0000011?line=3'>4</a>\u001b[0m     argument \u001b[39m/\u001b[39;49m \u001b[39m10\u001b[39;49m \n\u001b[0;32m      <a href='vscode-notebook-cell:/f%3A/tareas/katas10.ipynb#ch0000011?line=4'>5</a>\u001b[0m \u001b[39mexcept\u001b[39;00m \u001b[39mTypeError\u001b[39;00m:\n",
      "\u001b[1;31mTypeError\u001b[0m: unsupported operand type(s) for /: 'str' and 'int'",
      "\nDuring handling of the above exception, another exception occurred:\n",
      "\u001b[1;31mTypeError\u001b[0m                                 Traceback (most recent call last)",
      "Input \u001b[1;32mIn [23]\u001b[0m, in \u001b[0;36m<module>\u001b[1;34m\u001b[0m\n\u001b[1;32m----> 1\u001b[0m agua(\u001b[39m\"\u001b[39;49m\u001b[39m3\u001b[39;49m\u001b[39m\"\u001b[39;49m, \u001b[39m\"\u001b[39;49m\u001b[39m200\u001b[39;49m\u001b[39m\"\u001b[39;49m, \u001b[39mNone\u001b[39;49;00m)\n",
      "\u001b[1;32mf:\\tareas\\katas10.ipynb Cell 11'\u001b[0m in \u001b[0;36magua\u001b[1;34m(astronautas, agua, dia)\u001b[0m\n\u001b[0;32m      <a href='vscode-notebook-cell:/f%3A/tareas/katas10.ipynb#ch0000011?line=3'>4</a>\u001b[0m         argument \u001b[39m/\u001b[39m \u001b[39m10\u001b[39m \n\u001b[0;32m      <a href='vscode-notebook-cell:/f%3A/tareas/katas10.ipynb#ch0000011?line=4'>5</a>\u001b[0m     \u001b[39mexcept\u001b[39;00m \u001b[39mTypeError\u001b[39;00m:\n\u001b[1;32m----> <a href='vscode-notebook-cell:/f%3A/tareas/katas10.ipynb#ch0000011?line=5'>6</a>\u001b[0m         \u001b[39mraise\u001b[39;00m \u001b[39mTypeError\u001b[39;00m(\u001b[39mf\u001b[39m\u001b[39m\"\u001b[39m\u001b[39mall arguemnts must be of type int, but recived: \u001b[39m\u001b[39m'\u001b[39m\u001b[39m{\u001b[39;00margument\u001b[39m}\u001b[39;00m\u001b[39m'\u001b[39m\u001b[39m\"\u001b[39m)\n\u001b[0;32m      <a href='vscode-notebook-cell:/f%3A/tareas/katas10.ipynb#ch0000011?line=6'>7</a>\u001b[0m u_d \u001b[39m=\u001b[39m astronautas \u001b[39m*\u001b[39m \u001b[39m11\u001b[39m\n\u001b[0;32m      <a href='vscode-notebook-cell:/f%3A/tareas/katas10.ipynb#ch0000011?line=7'>8</a>\u001b[0m t_u \u001b[39m=\u001b[39m u_d \u001b[39m*\u001b[39m dia \n",
      "\u001b[1;31mTypeError\u001b[0m: all arguemnts must be of type int, but recived: '3'"
     ]
    }
   ],
   "source": [
    ">>> agua(\"3\", \"200\", None)"
   ]
  }
 ],
 "metadata": {
  "interpreter": {
   "hash": "c83b6adc4a7b9ec3f290d49f3fa65d7187cc9491d4f5c1ac560bd855f91bab47"
  },
  "kernelspec": {
   "display_name": "Python 3.10.2 64-bit",
   "language": "python",
   "name": "python3"
  },
  "language_info": {
   "codemirror_mode": {
    "name": "ipython",
    "version": 3
   },
   "file_extension": ".py",
   "mimetype": "text/x-python",
   "name": "python",
   "nbconvert_exporter": "python",
   "pygments_lexer": "ipython3",
   "version": "3.10.2"
  },
  "orig_nbformat": 4
 },
 "nbformat": 4,
 "nbformat_minor": 2
}
